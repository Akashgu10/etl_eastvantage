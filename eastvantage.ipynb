{
  "nbformat": 4,
  "nbformat_minor": 0,
  "metadata": {
    "colab": {
      "provenance": []
    },
    "kernelspec": {
      "name": "python3",
      "display_name": "Python 3"
    },
    "language_info": {
      "name": "python"
    }
  },
  "cells": [
    {
      "cell_type": "code",
      "source": [
        "\n",
        "sqlite3.version"
      ],
      "metadata": {
        "colab": {
          "base_uri": "https://localhost:8080/",
          "height": 35
        },
        "id": "PHXdx_Zdgh7x",
        "outputId": "427c2dd7-5b83-4010-bc44-fc468ff6609f"
      },
      "execution_count": null,
      "outputs": [
        {
          "output_type": "execute_result",
          "data": {
            "text/plain": [
              "'2.6.0'"
            ],
            "application/vnd.google.colaboratory.intrinsic+json": {
              "type": "string"
            }
          },
          "metadata": {},
          "execution_count": 27
        }
      ]
    },
    {
      "cell_type": "code",
      "source": [
        "import pandas as pd\n",
        "pd.__version__"
      ],
      "metadata": {
        "colab": {
          "base_uri": "https://localhost:8080/",
          "height": 35
        },
        "id": "ODhfj-5VgmfJ",
        "outputId": "2db20174-4fce-4cc3-b5dd-7b035f9d3e30"
      },
      "execution_count": null,
      "outputs": [
        {
          "output_type": "execute_result",
          "data": {
            "text/plain": [
              "'1.5.3'"
            ],
            "application/vnd.google.colaboratory.intrinsic+json": {
              "type": "string"
            }
          },
          "metadata": {},
          "execution_count": 28
        }
      ]
    },
    {
      "cell_type": "code",
      "execution_count": 40,
      "metadata": {
        "id": "dUc7vJeTo1w3",
        "colab": {
          "base_uri": "https://localhost:8080/"
        },
        "outputId": "8e07e84a-b1ce-4b84-88db-86401bb5a963"
      },
      "outputs": [
        {
          "output_type": "stream",
          "name": "stdout",
          "text": [
            "Query results stored in customer_items.csv successfully.\n"
          ]
        }
      ],
      "source": [
        "import sqlite3\n",
        "\n",
        "# Connect to SQLite database (creates new database if not exists)\n",
        "conn = sqlite3.connect('/content/Data Engineer_ETL Assignment.db')\n",
        "cursor = conn.cursor()\n",
        "\n",
        "\n",
        "cursor.execute(\n",
        "    '''\n",
        "    SELECT O.quantity,C.customer_id,C.age,I.item_id,I.item_name\n",
        "    FROM orders as O\n",
        "    LEFT JOIN sales S ON O.sales_id=S.sales_id\n",
        "    LEFT JOIN items I ON O.item_id=I.item_id\n",
        "    LEFT JOIN customers C ON C.customer_id=S.customer_id\n",
        "\n",
        "    '''\n",
        ")\n",
        "results = cursor.fetchall()\n",
        "\n",
        "col_df=pd.DataFrame(results,columns=[\"Quantity\",\"Customer\",\"Age\",\"Item\",\"Name\"])\n",
        "# Filter customers aged 18 to 35\n",
        "filtered_sales_df = col_df[(col_df['Age'] >= 18) & (col_df['Age'] <= 35)]\n",
        "# print(filtered_sales_df)\n",
        "# Perform aggregation\n",
        "aggregated_df = filtered_sales_df.groupby(['Customer','Age','Name','Item'])['Quantity'].sum().reset_index()\n",
        "aggregated_df.rename(columns={'Quantity':'total_quantity'},inplace=True)\n",
        "# Filter out items with total quantity = 0\n",
        "filtered_aggregated_df=aggregated_df[aggregated_df['total_quantity']>0]\n",
        "# Write results to CSV file with semicolon delimiter\n",
        "filtered_aggregated_df.to_csv('customer_items_aggregated.csv', sep=';', index=False)\n",
        "print(\"Query results stored in customer_items.csv successfully.\")\n",
        "# # Commit changes and close connection\n",
        "conn.commit()\n",
        "conn.close()\n",
        "\n",
        "# print(\"Database created successfully.\")\n"
      ]
    }
  ]
}